{
 "cells": [
  {
   "cell_type": "code",
   "execution_count": 17,
   "metadata": {},
   "outputs": [],
   "source": [
    "# Imorting my libraries: \n",
    "import os\n",
    "import pandas as pd\n",
    "import numpy as np\n",
    "import json "
   ]
  },
  {
   "cell_type": "code",
   "execution_count": 10,
   "metadata": {},
   "outputs": [],
   "source": [
    "directory = 'C:\\\\Users\\\\vmr12\\\\OneDrive\\\\Documents\\\\Project Batch - 2\\\\My-PhonePe_Mycode\\\\Data\\\\Pulse\\\\data'"
   ]
  },
  {
   "cell_type": "code",
   "execution_count": 11,
   "metadata": {},
   "outputs": [],
   "source": [
    "# Function to rename messy state names in a proper format\n",
    "\n",
    "def rename(directory):\n",
    "    for root, dirs, files in os.walk(directory):\n",
    "        if 'state' in dirs:\n",
    "            state_dir = os.path.join(root, 'state')\n",
    "            for state_folder in os.listdir(state_dir):\n",
    "                # rename the state folder\n",
    "                old_path = os.path.join(state_dir, state_folder)\n",
    "                new_path = os.path.join(state_dir, state_folder.title().replace('-', ' ').replace('&', 'and'))\n",
    "                os.rename(old_path, new_path)\n",
    "    print(\"Renamed all sub-directories successfully\")\n",
    "                \n",
    "# Function to extract all paths that has sub-directory in the name of 'state'\n",
    "\n",
    "def extract_paths(directory):\n",
    "    path_list = []\n",
    "    for root, dirs, files in os.walk(directory):\n",
    "        if os.path.basename(root) == 'state':\n",
    "            path_list.append(root.replace('\\\\', '/'))\n",
    "    return path_list"
   ]
  },
  {
   "cell_type": "code",
   "execution_count": 12,
   "metadata": {},
   "outputs": [
    {
     "name": "stdout",
     "output_type": "stream",
     "text": [
      "Renamed all sub-directories successfully\n"
     ]
    }
   ],
   "source": [
    "rename(directory)"
   ]
  },
  {
   "cell_type": "code",
   "execution_count": 13,
   "metadata": {},
   "outputs": [
    {
     "data": {
      "text/plain": [
       "['C:/Users/vmr12/OneDrive/Documents/Project Batch - 2/My-PhonePe_Mycode/Data/Pulse/data/aggregated/insurance/country/india/state',\n",
       " 'C:/Users/vmr12/OneDrive/Documents/Project Batch - 2/My-PhonePe_Mycode/Data/Pulse/data/aggregated/transaction/country/india/state',\n",
       " 'C:/Users/vmr12/OneDrive/Documents/Project Batch - 2/My-PhonePe_Mycode/Data/Pulse/data/aggregated/user/country/india/state',\n",
       " 'C:/Users/vmr12/OneDrive/Documents/Project Batch - 2/My-PhonePe_Mycode/Data/Pulse/data/map/insurance/country/india/state',\n",
       " 'C:/Users/vmr12/OneDrive/Documents/Project Batch - 2/My-PhonePe_Mycode/Data/Pulse/data/map/insurance/hover/country/india/state',\n",
       " 'C:/Users/vmr12/OneDrive/Documents/Project Batch - 2/My-PhonePe_Mycode/Data/Pulse/data/map/transaction/hover/country/india/state',\n",
       " 'C:/Users/vmr12/OneDrive/Documents/Project Batch - 2/My-PhonePe_Mycode/Data/Pulse/data/map/user/hover/country/india/state',\n",
       " 'C:/Users/vmr12/OneDrive/Documents/Project Batch - 2/My-PhonePe_Mycode/Data/Pulse/data/top/insurance/country/india/state',\n",
       " 'C:/Users/vmr12/OneDrive/Documents/Project Batch - 2/My-PhonePe_Mycode/Data/Pulse/data/top/transaction/country/india/state',\n",
       " 'C:/Users/vmr12/OneDrive/Documents/Project Batch - 2/My-PhonePe_Mycode/Data/Pulse/data/top/user/country/india/state']"
      ]
     },
     "execution_count": 13,
     "metadata": {},
     "output_type": "execute_result"
    }
   ],
   "source": [
    "state_directories = extract_paths(directory)\n",
    "state_directories"
   ]
  },
  {
   "cell_type": "code",
   "execution_count": 16,
   "metadata": {},
   "outputs": [
    {
     "data": {
      "text/plain": [
       "'C:/Users/vmr12/OneDrive/Documents/Project Batch - 2/My-PhonePe_Mycode/Data/Pulse/data/aggregated/user/country/india/state'"
      ]
     },
     "execution_count": 16,
     "metadata": {},
     "output_type": "execute_result"
    }
   ],
   "source": [
    "state_directories[2]"
   ]
  },
  {
   "cell_type": "code",
   "execution_count": 27,
   "metadata": {},
   "outputs": [],
   "source": [
    "file_path = r'C:\\Users\\vmr12\\OneDrive\\Documents\\Project Batch - 2\\My-PhonePe_Mycode\\Data\\Pulse\\data\\aggregated\\user\\country\\india\\2018\\1.json'"
   ]
  },
  {
   "cell_type": "code",
   "execution_count": 28,
   "metadata": {},
   "outputs": [],
   "source": [
    "# Open the JSON file and load its content\n",
    "with open(file_path, 'r') as file:\n",
    "    Data = json.load(file)"
   ]
  },
  {
   "cell_type": "code",
   "execution_count": 29,
   "metadata": {},
   "outputs": [
    {
     "data": {
      "text/plain": [
       "{'success': True,\n",
       " 'code': 'SUCCESS',\n",
       " 'data': {'aggregated': {'registeredUsers': 46877867, 'appOpens': 0},\n",
       "  'usersByDevice': [{'brand': 'Xiaomi',\n",
       "    'count': 11926334,\n",
       "    'percentage': 0.25441289809538475},\n",
       "   {'brand': 'Samsung', 'count': 9609401, 'percentage': 0.204988017052909},\n",
       "   {'brand': 'Vivo', 'count': 5894293, 'percentage': 0.1257372269092363},\n",
       "   {'brand': 'Oppo', 'count': 4479351, 'percentage': 0.09555364368434255},\n",
       "   {'brand': 'Realme', 'count': 2376866, 'percentage': 0.05070337351313361},\n",
       "   {'brand': 'Apple', 'count': 1825153, 'percentage': 0.03893421601285741},\n",
       "   {'brand': 'Motorola', 'count': 1593250, 'percentage': 0.033987254582210406},\n",
       "   {'brand': 'OnePlus', 'count': 1536418, 'percentage': 0.03277491273227086},\n",
       "   {'brand': 'Lenovo', 'count': 1246507, 'percentage': 0.026590522986039446},\n",
       "   {'brand': 'Huawei', 'count': 808774, 'percentage': 0.01725279010668297},\n",
       "   {'brand': 'Others', 'count': 5581520, 'percentage': 0.1190651443249327}]},\n",
       " 'responseTimestamp': 1630501482414}"
      ]
     },
     "execution_count": 29,
     "metadata": {},
     "output_type": "execute_result"
    }
   ],
   "source": [
    "Data"
   ]
  },
  {
   "cell_type": "code",
   "execution_count": 55,
   "metadata": {},
   "outputs": [
    {
     "data": {
      "text/plain": [
       "dict_keys(['success', 'code', 'data', 'responseTimestamp'])"
      ]
     },
     "execution_count": 55,
     "metadata": {},
     "output_type": "execute_result"
    }
   ],
   "source": [
    "Data.keys()"
   ]
  },
  {
   "cell_type": "code",
   "execution_count": 65,
   "metadata": {},
   "outputs": [
    {
     "data": {
      "text/plain": [
       "{'success': True,\n",
       " 'code': 'SUCCESS',\n",
       " 'data': {'aggregated': {'registeredUsers': 46877867, 'appOpens': 0},\n",
       "  'usersByDevice': [{'brand': 'Xiaomi',\n",
       "    'count': 11926334,\n",
       "    'percentage': 0.25441289809538475},\n",
       "   {'brand': 'Samsung', 'count': 9609401, 'percentage': 0.204988017052909},\n",
       "   {'brand': 'Vivo', 'count': 5894293, 'percentage': 0.1257372269092363},\n",
       "   {'brand': 'Oppo', 'count': 4479351, 'percentage': 0.09555364368434255},\n",
       "   {'brand': 'Realme', 'count': 2376866, 'percentage': 0.05070337351313361},\n",
       "   {'brand': 'Apple', 'count': 1825153, 'percentage': 0.03893421601285741},\n",
       "   {'brand': 'Motorola', 'count': 1593250, 'percentage': 0.033987254582210406},\n",
       "   {'brand': 'OnePlus', 'count': 1536418, 'percentage': 0.03277491273227086},\n",
       "   {'brand': 'Lenovo', 'count': 1246507, 'percentage': 0.026590522986039446},\n",
       "   {'brand': 'Huawei', 'count': 808774, 'percentage': 0.01725279010668297},\n",
       "   {'brand': 'Others', 'count': 5581520, 'percentage': 0.1190651443249327}]},\n",
       " 'responseTimestamp': 1630501482414}"
      ]
     },
     "execution_count": 65,
     "metadata": {},
     "output_type": "execute_result"
    }
   ],
   "source": [
    "Data"
   ]
  },
  {
   "cell_type": "code",
   "execution_count": 63,
   "metadata": {},
   "outputs": [
    {
     "name": "stdout",
     "output_type": "stream",
     "text": [
      "{'registeredUsers': 46877867, 'appOpens': 0}\n",
      "1\n",
      "46877867\n",
      "0\n",
      "Xiaomi\n",
      "11926334\n",
      "0.25441289809538475\n",
      "2\n",
      "46877867\n",
      "0\n",
      "Samsung\n",
      "9609401\n",
      "0.204988017052909\n",
      "3\n",
      "46877867\n",
      "0\n",
      "Vivo\n",
      "5894293\n",
      "0.1257372269092363\n",
      "4\n",
      "46877867\n",
      "0\n",
      "Oppo\n",
      "4479351\n",
      "0.09555364368434255\n",
      "5\n",
      "46877867\n",
      "0\n",
      "Realme\n",
      "2376866\n",
      "0.05070337351313361\n",
      "6\n",
      "46877867\n",
      "0\n",
      "Apple\n",
      "1825153\n",
      "0.03893421601285741\n",
      "7\n",
      "46877867\n",
      "0\n",
      "Motorola\n",
      "1593250\n",
      "0.033987254582210406\n",
      "8\n",
      "46877867\n",
      "0\n",
      "OnePlus\n",
      "1536418\n",
      "0.03277491273227086\n",
      "9\n",
      "46877867\n",
      "0\n",
      "Lenovo\n",
      "1246507\n",
      "0.026590522986039446\n",
      "10\n",
      "46877867\n",
      "0\n",
      "Huawei\n",
      "808774\n",
      "0.01725279010668297\n",
      "11\n",
      "46877867\n",
      "0\n",
      "Others\n",
      "5581520\n",
      "0.1190651443249327\n"
     ]
    }
   ],
   "source": [
    "for i in range(len(Data['data']['usersByDevice'])):\n",
    "    Rank = (i + 1)\n",
    "    Total_RegistedUsers = Data['data']['aggregated']['registeredUsers']\n",
    "    No_of_app_opens = Data['data']['aggregated']['appOpens'])\n",
    "    Brand_Name = Data['data']['usersByDevice'][i]['brand'])\n",
    "    print(Data['data']['usersByDevice'][i]['count'])\n",
    "    print(Data['data']['usersByDevice'][i]['percentage'])"
   ]
  },
  {
   "cell_type": "code",
   "execution_count": null,
   "metadata": {},
   "outputs": [],
   "source": []
  },
  {
   "cell_type": "code",
   "execution_count": null,
   "metadata": {},
   "outputs": [],
   "source": []
  }
 ],
 "metadata": {
  "kernelspec": {
   "display_name": "phonepe",
   "language": "python",
   "name": "python3"
  },
  "language_info": {
   "codemirror_mode": {
    "name": "ipython",
    "version": 3
   },
   "file_extension": ".py",
   "mimetype": "text/x-python",
   "name": "python",
   "nbconvert_exporter": "python",
   "pygments_lexer": "ipython3",
   "version": "3.12.4"
  }
 },
 "nbformat": 4,
 "nbformat_minor": 2
}
